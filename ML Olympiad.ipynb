{
 "cells": [
  {
   "cell_type": "code",
   "execution_count": 1,
   "id": "165dc6df",
   "metadata": {},
   "outputs": [],
   "source": [
    "#Manipulação e visualização de de dados\n",
    "import pandas as pd\n",
    "import numpy as np\n",
    "import matplotlib.pyplot as plt\n",
    "import seaborn as sns\n",
    "import itertools\n",
    "plt.style.use('ggplot')\n",
    "\n",
    "#Construção e avaliação de modelos\n",
    "from sklearn.metrics import accuracy_score, confusion_matrix, classification_report, recall_score, roc_curve, auc\n",
    "from sklearn.metrics import roc_auc_score, precision_score, f1_score\n",
    "from sklearn.model_selection import GridSearchCV, cross_val_score, KFold\n",
    "from skopt import BayesSearchCV\n",
    "from feature_engine.selection import DropConstantFeatures, SmartCorrelatedSelection, RecursiveFeatureElimination\n",
    "from sklearn.inspection import permutation_importance\n",
    "\n",
    "#Modelos\n",
    "from sklearn.ensemble import RandomForestClassifier\n",
    "from sklearn.tree import DecisionTreeClassifier\n",
    "from sklearn.linear_model import LogisticRegression\n",
    "from category_encoders import CatBoostEncoder, TargetEncoder\n",
    "from xgboost import XGBClassifier\n",
    "\n",
    "\n",
    "#Pré-processamento\n",
    "from sklearn.compose import ColumnTransformer\n",
    "from sklearn.preprocessing import MinMaxScaler, StandardScaler, OrdinalEncoder\n",
    "from imblearn.pipeline import Pipeline\n",
    "from sklearn.model_selection import train_test_split"
   ]
  },
  {
   "cell_type": "code",
   "execution_count": 2,
   "id": "2f15d06b",
   "metadata": {},
   "outputs": [],
   "source": [
    "# Importando os dados\n",
    "train = pd.read_csv('train.csv')\n",
    "test = pd.read_csv('test.csv')"
   ]
  },
  {
   "cell_type": "markdown",
   "id": "379a820a",
   "metadata": {},
   "source": [
    "# Análise Exploratória"
   ]
  },
  {
   "cell_type": "code",
   "execution_count": 3,
   "id": "cf5876df",
   "metadata": {},
   "outputs": [
    {
     "name": "stdout",
     "output_type": "stream",
     "text": [
      "(17836, 12)\n",
      "(7644, 11)\n"
     ]
    }
   ],
   "source": [
    "print(train.shape)\n",
    "print(test.shape)"
   ]
  },
  {
   "cell_type": "code",
   "execution_count": 4,
   "id": "8e93b253",
   "metadata": {},
   "outputs": [
    {
     "data": {
      "text/html": [
       "<div>\n",
       "<style scoped>\n",
       "    .dataframe tbody tr th:only-of-type {\n",
       "        vertical-align: middle;\n",
       "    }\n",
       "\n",
       "    .dataframe tbody tr th {\n",
       "        vertical-align: top;\n",
       "    }\n",
       "\n",
       "    .dataframe thead th {\n",
       "        text-align: right;\n",
       "    }\n",
       "</style>\n",
       "<table border=\"1\" class=\"dataframe\">\n",
       "  <thead>\n",
       "    <tr style=\"text-align: right;\">\n",
       "      <th></th>\n",
       "      <th>id_do_caso</th>\n",
       "      <th>continente</th>\n",
       "      <th>educacao_do_empregado</th>\n",
       "      <th>tem_experiencia_de_trabalho</th>\n",
       "      <th>requer_treinamento_de_trabalho</th>\n",
       "      <th>num_de_empregados</th>\n",
       "      <th>ano_de_estabelecimento</th>\n",
       "      <th>regiao_de_emprego</th>\n",
       "      <th>salario_prevalecente</th>\n",
       "      <th>unidade_de_salario</th>\n",
       "      <th>posicao_em_tempo_integral</th>\n",
       "      <th>status_do_caso</th>\n",
       "    </tr>\n",
       "  </thead>\n",
       "  <tbody>\n",
       "    <tr>\n",
       "      <th>0</th>\n",
       "      <td>EZYV10567</td>\n",
       "      <td>Europa</td>\n",
       "      <td>Ensino Médio</td>\n",
       "      <td>N</td>\n",
       "      <td>S</td>\n",
       "      <td>2087</td>\n",
       "      <td>1855</td>\n",
       "      <td>Sul</td>\n",
       "      <td>69711.24</td>\n",
       "      <td>Ano</td>\n",
       "      <td>S</td>\n",
       "      <td>Negado</td>\n",
       "    </tr>\n",
       "    <tr>\n",
       "      <th>1</th>\n",
       "      <td>EZYV5505</td>\n",
       "      <td>Ásia</td>\n",
       "      <td>Mestrado</td>\n",
       "      <td>S</td>\n",
       "      <td>N</td>\n",
       "      <td>5991</td>\n",
       "      <td>2003</td>\n",
       "      <td>Meio-Oeste</td>\n",
       "      <td>52931.38</td>\n",
       "      <td>Ano</td>\n",
       "      <td>S</td>\n",
       "      <td>Aprovado</td>\n",
       "    </tr>\n",
       "    <tr>\n",
       "      <th>2</th>\n",
       "      <td>EZYV5207</td>\n",
       "      <td>Ásia</td>\n",
       "      <td>Ensino Médio</td>\n",
       "      <td>N</td>\n",
       "      <td>N</td>\n",
       "      <td>1426</td>\n",
       "      <td>2000</td>\n",
       "      <td>Ilha</td>\n",
       "      <td>110830.21</td>\n",
       "      <td>Ano</td>\n",
       "      <td>S</td>\n",
       "      <td>Negado</td>\n",
       "    </tr>\n",
       "    <tr>\n",
       "      <th>3</th>\n",
       "      <td>EZYV7545</td>\n",
       "      <td>Ásia</td>\n",
       "      <td>Ensino Médio</td>\n",
       "      <td>N</td>\n",
       "      <td>N</td>\n",
       "      <td>3846</td>\n",
       "      <td>1992</td>\n",
       "      <td>Meio-Oeste</td>\n",
       "      <td>91884.68</td>\n",
       "      <td>Semana</td>\n",
       "      <td>S</td>\n",
       "      <td>Negado</td>\n",
       "    </tr>\n",
       "    <tr>\n",
       "      <th>4</th>\n",
       "      <td>EZYV16071</td>\n",
       "      <td>Ásia</td>\n",
       "      <td>Ensino Superior</td>\n",
       "      <td>S</td>\n",
       "      <td>N</td>\n",
       "      <td>3957</td>\n",
       "      <td>1949</td>\n",
       "      <td>Nordeste</td>\n",
       "      <td>138155.24</td>\n",
       "      <td>Ano</td>\n",
       "      <td>S</td>\n",
       "      <td>Aprovado</td>\n",
       "    </tr>\n",
       "  </tbody>\n",
       "</table>\n",
       "</div>"
      ],
      "text/plain": [
       "  id_do_caso continente educacao_do_empregado tem_experiencia_de_trabalho  \\\n",
       "0  EZYV10567     Europa          Ensino Médio                           N   \n",
       "1   EZYV5505       Ásia              Mestrado                           S   \n",
       "2   EZYV5207       Ásia          Ensino Médio                           N   \n",
       "3   EZYV7545       Ásia          Ensino Médio                           N   \n",
       "4  EZYV16071       Ásia       Ensino Superior                           S   \n",
       "\n",
       "  requer_treinamento_de_trabalho  num_de_empregados  ano_de_estabelecimento  \\\n",
       "0                              S               2087                    1855   \n",
       "1                              N               5991                    2003   \n",
       "2                              N               1426                    2000   \n",
       "3                              N               3846                    1992   \n",
       "4                              N               3957                    1949   \n",
       "\n",
       "  regiao_de_emprego  salario_prevalecente unidade_de_salario  \\\n",
       "0               Sul              69711.24                Ano   \n",
       "1        Meio-Oeste              52931.38                Ano   \n",
       "2              Ilha             110830.21                Ano   \n",
       "3        Meio-Oeste              91884.68             Semana   \n",
       "4          Nordeste             138155.24                Ano   \n",
       "\n",
       "  posicao_em_tempo_integral status_do_caso  \n",
       "0                         S         Negado  \n",
       "1                         S       Aprovado  \n",
       "2                         S         Negado  \n",
       "3                         S         Negado  \n",
       "4                         S       Aprovado  "
      ]
     },
     "execution_count": 4,
     "metadata": {},
     "output_type": "execute_result"
    }
   ],
   "source": [
    "train.head()"
   ]
  },
  {
   "cell_type": "code",
   "execution_count": 5,
   "id": "8ec887f7",
   "metadata": {},
   "outputs": [
    {
     "data": {
      "text/html": [
       "<div>\n",
       "<style scoped>\n",
       "    .dataframe tbody tr th:only-of-type {\n",
       "        vertical-align: middle;\n",
       "    }\n",
       "\n",
       "    .dataframe tbody tr th {\n",
       "        vertical-align: top;\n",
       "    }\n",
       "\n",
       "    .dataframe thead th {\n",
       "        text-align: right;\n",
       "    }\n",
       "</style>\n",
       "<table border=\"1\" class=\"dataframe\">\n",
       "  <thead>\n",
       "    <tr style=\"text-align: right;\">\n",
       "      <th></th>\n",
       "      <th>id_do_caso</th>\n",
       "      <th>continente</th>\n",
       "      <th>educacao_do_empregado</th>\n",
       "      <th>tem_experiencia_de_trabalho</th>\n",
       "      <th>requer_treinamento_de_trabalho</th>\n",
       "      <th>num_de_empregados</th>\n",
       "      <th>ano_de_estabelecimento</th>\n",
       "      <th>regiao_de_emprego</th>\n",
       "      <th>salario_prevalecente</th>\n",
       "      <th>unidade_de_salario</th>\n",
       "      <th>posicao_em_tempo_integral</th>\n",
       "    </tr>\n",
       "  </thead>\n",
       "  <tbody>\n",
       "    <tr>\n",
       "      <th>0</th>\n",
       "      <td>EZYV22339</td>\n",
       "      <td>Ásia</td>\n",
       "      <td>Ensino Superior</td>\n",
       "      <td>S</td>\n",
       "      <td>N</td>\n",
       "      <td>2414</td>\n",
       "      <td>1973</td>\n",
       "      <td>Nordeste</td>\n",
       "      <td>103320.80</td>\n",
       "      <td>Ano</td>\n",
       "      <td>N</td>\n",
       "    </tr>\n",
       "    <tr>\n",
       "      <th>1</th>\n",
       "      <td>EZYV9333</td>\n",
       "      <td>Ásia</td>\n",
       "      <td>Mestrado</td>\n",
       "      <td>N</td>\n",
       "      <td>S</td>\n",
       "      <td>2928</td>\n",
       "      <td>1937</td>\n",
       "      <td>Oeste</td>\n",
       "      <td>49786.35</td>\n",
       "      <td>Ano</td>\n",
       "      <td>S</td>\n",
       "    </tr>\n",
       "    <tr>\n",
       "      <th>2</th>\n",
       "      <td>EZYV9740</td>\n",
       "      <td>Ásia</td>\n",
       "      <td>Ensino Superior</td>\n",
       "      <td>S</td>\n",
       "      <td>N</td>\n",
       "      <td>1836</td>\n",
       "      <td>1999</td>\n",
       "      <td>Oeste</td>\n",
       "      <td>60855.83</td>\n",
       "      <td>Ano</td>\n",
       "      <td>S</td>\n",
       "    </tr>\n",
       "    <tr>\n",
       "      <th>3</th>\n",
       "      <td>EZYV3328</td>\n",
       "      <td>Ásia</td>\n",
       "      <td>Ensino Superior</td>\n",
       "      <td>S</td>\n",
       "      <td>N</td>\n",
       "      <td>122</td>\n",
       "      <td>2004</td>\n",
       "      <td>Sul</td>\n",
       "      <td>82379.06</td>\n",
       "      <td>Semana</td>\n",
       "      <td>S</td>\n",
       "    </tr>\n",
       "    <tr>\n",
       "      <th>4</th>\n",
       "      <td>EZYV12321</td>\n",
       "      <td>América do Sul</td>\n",
       "      <td>Ensino Superior</td>\n",
       "      <td>S</td>\n",
       "      <td>S</td>\n",
       "      <td>1720</td>\n",
       "      <td>2003</td>\n",
       "      <td>Nordeste</td>\n",
       "      <td>6719.81</td>\n",
       "      <td>Ano</td>\n",
       "      <td>S</td>\n",
       "    </tr>\n",
       "  </tbody>\n",
       "</table>\n",
       "</div>"
      ],
      "text/plain": [
       "  id_do_caso      continente educacao_do_empregado  \\\n",
       "0  EZYV22339            Ásia       Ensino Superior   \n",
       "1   EZYV9333            Ásia              Mestrado   \n",
       "2   EZYV9740            Ásia       Ensino Superior   \n",
       "3   EZYV3328            Ásia       Ensino Superior   \n",
       "4  EZYV12321  América do Sul       Ensino Superior   \n",
       "\n",
       "  tem_experiencia_de_trabalho requer_treinamento_de_trabalho  \\\n",
       "0                           S                              N   \n",
       "1                           N                              S   \n",
       "2                           S                              N   \n",
       "3                           S                              N   \n",
       "4                           S                              S   \n",
       "\n",
       "   num_de_empregados  ano_de_estabelecimento regiao_de_emprego  \\\n",
       "0               2414                    1973          Nordeste   \n",
       "1               2928                    1937             Oeste   \n",
       "2               1836                    1999             Oeste   \n",
       "3                122                    2004               Sul   \n",
       "4               1720                    2003          Nordeste   \n",
       "\n",
       "   salario_prevalecente unidade_de_salario posicao_em_tempo_integral  \n",
       "0             103320.80                Ano                         N  \n",
       "1              49786.35                Ano                         S  \n",
       "2              60855.83                Ano                         S  \n",
       "3              82379.06             Semana                         S  \n",
       "4               6719.81                Ano                         S  "
      ]
     },
     "execution_count": 5,
     "metadata": {},
     "output_type": "execute_result"
    }
   ],
   "source": [
    "test.head()"
   ]
  },
  {
   "cell_type": "code",
   "execution_count": 6,
   "id": "29b8a4d2",
   "metadata": {},
   "outputs": [
    {
     "data": {
      "text/html": [
       "<div>\n",
       "<style scoped>\n",
       "    .dataframe tbody tr th:only-of-type {\n",
       "        vertical-align: middle;\n",
       "    }\n",
       "\n",
       "    .dataframe tbody tr th {\n",
       "        vertical-align: top;\n",
       "    }\n",
       "\n",
       "    .dataframe thead th {\n",
       "        text-align: right;\n",
       "    }\n",
       "</style>\n",
       "<table border=\"1\" class=\"dataframe\">\n",
       "  <thead>\n",
       "    <tr style=\"text-align: right;\">\n",
       "      <th></th>\n",
       "      <th>num_de_empregados</th>\n",
       "      <th>ano_de_estabelecimento</th>\n",
       "      <th>salario_prevalecente</th>\n",
       "    </tr>\n",
       "  </thead>\n",
       "  <tbody>\n",
       "    <tr>\n",
       "      <th>count</th>\n",
       "      <td>17836.00000</td>\n",
       "      <td>17836.000000</td>\n",
       "      <td>17836.000000</td>\n",
       "    </tr>\n",
       "    <tr>\n",
       "      <th>mean</th>\n",
       "      <td>5726.50185</td>\n",
       "      <td>1979.494898</td>\n",
       "      <td>74327.428401</td>\n",
       "    </tr>\n",
       "    <tr>\n",
       "      <th>std</th>\n",
       "      <td>23321.37739</td>\n",
       "      <td>42.097194</td>\n",
       "      <td>52795.859573</td>\n",
       "    </tr>\n",
       "    <tr>\n",
       "      <th>min</th>\n",
       "      <td>-26.00000</td>\n",
       "      <td>1800.000000</td>\n",
       "      <td>2.136700</td>\n",
       "    </tr>\n",
       "    <tr>\n",
       "      <th>25%</th>\n",
       "      <td>1023.00000</td>\n",
       "      <td>1976.000000</td>\n",
       "      <td>33892.912500</td>\n",
       "    </tr>\n",
       "    <tr>\n",
       "      <th>50%</th>\n",
       "      <td>2117.00000</td>\n",
       "      <td>1997.000000</td>\n",
       "      <td>70106.920000</td>\n",
       "    </tr>\n",
       "    <tr>\n",
       "      <th>75%</th>\n",
       "      <td>3504.25000</td>\n",
       "      <td>2005.000000</td>\n",
       "      <td>107564.715000</td>\n",
       "    </tr>\n",
       "    <tr>\n",
       "      <th>max</th>\n",
       "      <td>602069.00000</td>\n",
       "      <td>2016.000000</td>\n",
       "      <td>319210.270000</td>\n",
       "    </tr>\n",
       "  </tbody>\n",
       "</table>\n",
       "</div>"
      ],
      "text/plain": [
       "       num_de_empregados  ano_de_estabelecimento  salario_prevalecente\n",
       "count        17836.00000            17836.000000          17836.000000\n",
       "mean          5726.50185             1979.494898          74327.428401\n",
       "std          23321.37739               42.097194          52795.859573\n",
       "min            -26.00000             1800.000000              2.136700\n",
       "25%           1023.00000             1976.000000          33892.912500\n",
       "50%           2117.00000             1997.000000          70106.920000\n",
       "75%           3504.25000             2005.000000         107564.715000\n",
       "max         602069.00000             2016.000000         319210.270000"
      ]
     },
     "execution_count": 6,
     "metadata": {},
     "output_type": "execute_result"
    }
   ],
   "source": [
    "train.describe()"
   ]
  },
  {
   "cell_type": "code",
   "execution_count": 7,
   "id": "58f4a012",
   "metadata": {},
   "outputs": [
    {
     "name": "stdout",
     "output_type": "stream",
     "text": [
      "<class 'pandas.core.frame.DataFrame'>\n",
      "RangeIndex: 17836 entries, 0 to 17835\n",
      "Data columns (total 12 columns):\n",
      " #   Column                          Non-Null Count  Dtype  \n",
      "---  ------                          --------------  -----  \n",
      " 0   id_do_caso                      17836 non-null  object \n",
      " 1   continente                      17836 non-null  object \n",
      " 2   educacao_do_empregado           17836 non-null  object \n",
      " 3   tem_experiencia_de_trabalho     17836 non-null  object \n",
      " 4   requer_treinamento_de_trabalho  17836 non-null  object \n",
      " 5   num_de_empregados               17836 non-null  int64  \n",
      " 6   ano_de_estabelecimento          17836 non-null  int64  \n",
      " 7   regiao_de_emprego               17836 non-null  object \n",
      " 8   salario_prevalecente            17836 non-null  float64\n",
      " 9   unidade_de_salario              17836 non-null  object \n",
      " 10  posicao_em_tempo_integral       17836 non-null  object \n",
      " 11  status_do_caso                  17836 non-null  object \n",
      "dtypes: float64(1), int64(2), object(9)\n",
      "memory usage: 1.6+ MB\n"
     ]
    }
   ],
   "source": [
    "train.info()"
   ]
  },
  {
   "cell_type": "code",
   "execution_count": 8,
   "id": "c41adb9c",
   "metadata": {},
   "outputs": [
    {
     "data": {
      "text/plain": [
       "id_do_caso                        17836\n",
       "continente                            6\n",
       "educacao_do_empregado                 4\n",
       "tem_experiencia_de_trabalho           2\n",
       "requer_treinamento_de_trabalho        2\n",
       "num_de_empregados                  6294\n",
       "ano_de_estabelecimento              199\n",
       "regiao_de_emprego                     5\n",
       "salario_prevalecente              17827\n",
       "unidade_de_salario                    4\n",
       "posicao_em_tempo_integral             2\n",
       "status_do_caso                        2\n",
       "dtype: int64"
      ]
     },
     "execution_count": 8,
     "metadata": {},
     "output_type": "execute_result"
    }
   ],
   "source": [
    "train.nunique()"
   ]
  },
  {
   "cell_type": "code",
   "execution_count": 9,
   "id": "dbe795c3",
   "metadata": {},
   "outputs": [
    {
     "data": {
      "text/plain": [
       "id_do_caso                        0\n",
       "continente                        0\n",
       "educacao_do_empregado             0\n",
       "tem_experiencia_de_trabalho       0\n",
       "requer_treinamento_de_trabalho    0\n",
       "num_de_empregados                 0\n",
       "ano_de_estabelecimento            0\n",
       "regiao_de_emprego                 0\n",
       "salario_prevalecente              0\n",
       "unidade_de_salario                0\n",
       "posicao_em_tempo_integral         0\n",
       "status_do_caso                    0\n",
       "dtype: int64"
      ]
     },
     "execution_count": 9,
     "metadata": {},
     "output_type": "execute_result"
    }
   ],
   "source": [
    "train.isnull().sum()"
   ]
  },
  {
   "cell_type": "code",
   "execution_count": 10,
   "id": "96e1a5c7",
   "metadata": {},
   "outputs": [
    {
     "name": "stdout",
     "output_type": "stream",
     "text": [
      "continente\n",
      "Ásia                11765\n",
      "Europa               2654\n",
      "América do Norte     2295\n",
      "América do Sul        590\n",
      "África                393\n",
      "Oceania               139\n",
      "dtype: int64\n",
      "educacao_do_empregado\n",
      "Ensino Superior    7151\n",
      "Mestrado           6755\n",
      "Ensino Médio       2398\n",
      "Doutorado          1532\n",
      "dtype: int64\n",
      "tem_experiencia_de_trabalho\n",
      "S    10380\n",
      "N     7456\n",
      "dtype: int64\n",
      "requer_treinamento_de_trabalho\n",
      "N    15755\n",
      "S     2081\n",
      "dtype: int64\n",
      "num_de_empregados\n",
      "183       15\n",
      "795       14\n",
      "854       13\n",
      "1341      12\n",
      "1652      11\n",
      "          ..\n",
      "4947       1\n",
      "4950       1\n",
      "4962       1\n",
      "4965       1\n",
      "602069     1\n",
      "Length: 6294, dtype: int64\n",
      "ano_de_estabelecimento\n",
      "1998    783\n",
      "2005    729\n",
      "2001    716\n",
      "2007    706\n",
      "1999    602\n",
      "       ... \n",
      "1820      3\n",
      "1860      2\n",
      "1824      2\n",
      "1810      2\n",
      "1846      1\n",
      "Length: 199, dtype: int64\n",
      "regiao_de_emprego\n",
      "Nordeste      5064\n",
      "Sul           4912\n",
      "Oeste         4589\n",
      "Meio-Oeste    3011\n",
      "Ilha           260\n",
      "dtype: int64\n",
      "salario_prevalecente\n",
      "138.76       2\n",
      "109.06       2\n",
      "64357.58     2\n",
      "93356.03     2\n",
      "60948.15     2\n",
      "            ..\n",
      "46493.93     1\n",
      "46499.75     1\n",
      "46505.01     1\n",
      "46515.24     1\n",
      "319210.27    1\n",
      "Length: 17827, dtype: int64\n",
      "unidade_de_salario\n",
      "Ano       16089\n",
      "Hora       1493\n",
      "Semana      196\n",
      "Mês          58\n",
      "dtype: int64\n",
      "posicao_em_tempo_integral\n",
      "S    15934\n",
      "N     1902\n",
      "dtype: int64\n",
      "status_do_caso\n",
      "Aprovado    11937\n",
      "Negado       5899\n",
      "dtype: int64\n"
     ]
    }
   ],
   "source": [
    "for j in train.columns[1:]:\n",
    "    print(train.value_counts(j))"
   ]
  },
  {
   "cell_type": "code",
   "execution_count": 11,
   "id": "2f99d176",
   "metadata": {},
   "outputs": [
    {
     "data": {
      "text/html": [
       "<div>\n",
       "<style scoped>\n",
       "    .dataframe tbody tr th:only-of-type {\n",
       "        vertical-align: middle;\n",
       "    }\n",
       "\n",
       "    .dataframe tbody tr th {\n",
       "        vertical-align: top;\n",
       "    }\n",
       "\n",
       "    .dataframe thead th {\n",
       "        text-align: right;\n",
       "    }\n",
       "</style>\n",
       "<table border=\"1\" class=\"dataframe\">\n",
       "  <thead>\n",
       "    <tr style=\"text-align: right;\">\n",
       "      <th></th>\n",
       "      <th>salario_prevalecente</th>\n",
       "      <th>unidade_de_salario</th>\n",
       "    </tr>\n",
       "  </thead>\n",
       "  <tbody>\n",
       "    <tr>\n",
       "      <th>0</th>\n",
       "      <td>69711.24</td>\n",
       "      <td>Ano</td>\n",
       "    </tr>\n",
       "    <tr>\n",
       "      <th>1</th>\n",
       "      <td>52931.38</td>\n",
       "      <td>Ano</td>\n",
       "    </tr>\n",
       "    <tr>\n",
       "      <th>2</th>\n",
       "      <td>110830.21</td>\n",
       "      <td>Ano</td>\n",
       "    </tr>\n",
       "    <tr>\n",
       "      <th>3</th>\n",
       "      <td>91884.68</td>\n",
       "      <td>Semana</td>\n",
       "    </tr>\n",
       "    <tr>\n",
       "      <th>4</th>\n",
       "      <td>138155.24</td>\n",
       "      <td>Ano</td>\n",
       "    </tr>\n",
       "    <tr>\n",
       "      <th>...</th>\n",
       "      <td>...</td>\n",
       "      <td>...</td>\n",
       "    </tr>\n",
       "    <tr>\n",
       "      <th>17831</th>\n",
       "      <td>69692.24</td>\n",
       "      <td>Ano</td>\n",
       "    </tr>\n",
       "    <tr>\n",
       "      <th>17832</th>\n",
       "      <td>136237.62</td>\n",
       "      <td>Ano</td>\n",
       "    </tr>\n",
       "    <tr>\n",
       "      <th>17833</th>\n",
       "      <td>118187.30</td>\n",
       "      <td>Ano</td>\n",
       "    </tr>\n",
       "    <tr>\n",
       "      <th>17834</th>\n",
       "      <td>93133.40</td>\n",
       "      <td>Ano</td>\n",
       "    </tr>\n",
       "    <tr>\n",
       "      <th>17835</th>\n",
       "      <td>71500.57</td>\n",
       "      <td>Ano</td>\n",
       "    </tr>\n",
       "  </tbody>\n",
       "</table>\n",
       "<p>17836 rows × 2 columns</p>\n",
       "</div>"
      ],
      "text/plain": [
       "       salario_prevalecente unidade_de_salario\n",
       "0                  69711.24                Ano\n",
       "1                  52931.38                Ano\n",
       "2                 110830.21                Ano\n",
       "3                  91884.68             Semana\n",
       "4                 138155.24                Ano\n",
       "...                     ...                ...\n",
       "17831              69692.24                Ano\n",
       "17832             136237.62                Ano\n",
       "17833             118187.30                Ano\n",
       "17834              93133.40                Ano\n",
       "17835              71500.57                Ano\n",
       "\n",
       "[17836 rows x 2 columns]"
      ]
     },
     "execution_count": 11,
     "metadata": {},
     "output_type": "execute_result"
    }
   ],
   "source": [
    "train[[\"salario_prevalecente\", \"unidade_de_salario\"]]"
   ]
  },
  {
   "cell_type": "code",
   "execution_count": 12,
   "id": "8df02221",
   "metadata": {},
   "outputs": [
    {
     "data": {
      "image/png": "[encoded data removed]",
      "text/plain": [
       "<Figure size 640x480 with 1 Axes>"
      ]
     },
     "metadata": {},
     "output_type": "display_data"
    },
    {
     "data": {
      "image/png": "[encoded data removed]",
      "text/plain": [
       "<Figure size 640x480 with 1 Axes>"
      ]
     },
     "metadata": {},
     "output_type": "display_data"
    },
    {
     "data": {
      "image/png": "[encoded data removed]",
      "text/plain": [
       "<Figure size 640x480 with 1 Axes>"
      ]
     },
     "metadata": {},
     "output_type": "display_data"
    }
   ],
   "source": [
    "num_cols = [\"salario_prevalecente\",\"ano_de_estabelecimento\" ,\"num_de_empregados\"]\n",
    "for k in num_cols:\n",
    "    plt.hist(train[k], bins = 30)\n",
    "    plt.show()"
   ]
  },
  {
   "cell_type": "code",
   "execution_count": 13,
   "id": "d1169d10",
   "metadata": {},
   "outputs": [
    {
     "data": {
      "text/html": [
       "<div>\n",
       "<style scoped>\n",
       "    .dataframe tbody tr th:only-of-type {\n",
       "        vertical-align: middle;\n",
       "    }\n",
       "\n",
       "    .dataframe tbody tr th {\n",
       "        vertical-align: top;\n",
       "    }\n",
       "\n",
       "    .dataframe thead th {\n",
       "        text-align: right;\n",
       "    }\n",
       "</style>\n",
       "<table border=\"1\" class=\"dataframe\">\n",
       "  <thead>\n",
       "    <tr style=\"text-align: right;\">\n",
       "      <th></th>\n",
       "      <th>mean</th>\n",
       "      <th>std</th>\n",
       "      <th>median</th>\n",
       "      <th>min</th>\n",
       "      <th>max</th>\n",
       "    </tr>\n",
       "    <tr>\n",
       "      <th>unidade_de_salario</th>\n",
       "      <th></th>\n",
       "      <th></th>\n",
       "      <th></th>\n",
       "      <th></th>\n",
       "      <th></th>\n",
       "    </tr>\n",
       "  </thead>\n",
       "  <tbody>\n",
       "    <tr>\n",
       "      <th>Ano</th>\n",
       "      <td>81049.709986</td>\n",
       "      <td>50038.565184</td>\n",
       "      <td>76005.0900</td>\n",
       "      <td>115.8100</td>\n",
       "      <td>319210.2700</td>\n",
       "    </tr>\n",
       "    <tr>\n",
       "      <th>Hora</th>\n",
       "      <td>417.758045</td>\n",
       "      <td>276.774608</td>\n",
       "      <td>381.6072</td>\n",
       "      <td>2.1367</td>\n",
       "      <td>999.9195</td>\n",
       "    </tr>\n",
       "    <tr>\n",
       "      <th>Mês</th>\n",
       "      <td>82777.722069</td>\n",
       "      <td>57168.134353</td>\n",
       "      <td>69143.4450</td>\n",
       "      <td>3078.3700</td>\n",
       "      <td>249291.1200</td>\n",
       "    </tr>\n",
       "    <tr>\n",
       "      <th>Semana</th>\n",
       "      <td>83012.287500</td>\n",
       "      <td>41950.329705</td>\n",
       "      <td>82988.3400</td>\n",
       "      <td>3271.1900</td>\n",
       "      <td>234406.3600</td>\n",
       "    </tr>\n",
       "  </tbody>\n",
       "</table>\n",
       "</div>"
      ],
      "text/plain": [
       "                            mean           std      median        min  \\\n",
       "unidade_de_salario                                                      \n",
       "Ano                 81049.709986  50038.565184  76005.0900   115.8100   \n",
       "Hora                  417.758045    276.774608    381.6072     2.1367   \n",
       "Mês                 82777.722069  57168.134353  69143.4450  3078.3700   \n",
       "Semana              83012.287500  41950.329705  82988.3400  3271.1900   \n",
       "\n",
       "                            max  \n",
       "unidade_de_salario               \n",
       "Ano                 319210.2700  \n",
       "Hora                   999.9195  \n",
       "Mês                 249291.1200  \n",
       "Semana              234406.3600  "
      ]
     },
     "execution_count": 13,
     "metadata": {},
     "output_type": "execute_result"
    }
   ],
   "source": [
    "train.groupby(\"unidade_de_salario\")[\"salario_prevalecente\"].agg(['mean', 'std', 'median', 'min', 'max'])"
   ]
  },
  {
   "cell_type": "markdown",
   "id": "52059508",
   "metadata": {},
   "source": [
    "## Data Preparation"
   ]
  },
  {
   "cell_type": "code",
   "execution_count": 14,
   "id": "5bd107d4",
   "metadata": {},
   "outputs": [
    {
     "data": {
      "text/plain": [
       "\"df.drop(columns = ['salario_medio', 'periodicidade'], inplace = True)\\ndf_test.drop(columns = ['salario_medio', 'periodicidade'], inplace = True)\\n\""
      ]
     },
     "execution_count": 14,
     "metadata": {},
     "output_type": "execute_result"
    }
   ],
   "source": [
    "# Criando dataframes com dados de treino e teste\n",
    "df = pd.DataFrame(train)\n",
    "df_test = pd.DataFrame(test)\n",
    "\n",
    "# Mudando os nomes das colunas\n",
    "df.columns = ['id', 'continente', 'escolaridade',\n",
    "       'tem_experiencia', 'requer_treinamento',\n",
    "       'num_empregados', 'ano_fundacao', 'regiao',\n",
    "       'salario_medio', 'periodicidade',\n",
    "       'tempo_integral', 'status']\n",
    "\n",
    "df_test.columns = ['id', 'continente', 'escolaridade',\n",
    "       'tem_experiencia', 'requer_treinamento',\n",
    "       'num_empregados', 'ano_fundacao', 'regiao',\n",
    "       'salario_medio', 'periodicidade',\n",
    "       'tempo_integral']\n"
   ]
  },
  {
   "cell_type": "code",
   "execution_count": 15,
   "id": "79e4efa4",
   "metadata": {},
   "outputs": [],
   "source": [
    "# Criando cópia do dataset de treino\n",
    "df2 = df.copy()\n",
    "\n",
    "# dividindo em conjunto de treino e teste\n",
    "X_train, X_test, y_train, y_test = train_test_split(\n",
    "    df2.drop([\"id\", \"status\"], axis=1), df2[\"status\"], test_size=0.2, random_state=1\n",
    ")\n"
   ]
  },
  {
   "cell_type": "code",
   "execution_count": 16,
   "id": "609afaf9",
   "metadata": {},
   "outputs": [
    {
     "name": "stdout",
     "output_type": "stream",
     "text": [
      "(14268, 10)\n",
      "(14268,)\n"
     ]
    }
   ],
   "source": [
    "print(X_train.shape)\n",
    "print(y_train.shape)"
   ]
  },
  {
   "cell_type": "markdown",
   "id": "bc7507cd",
   "metadata": {},
   "source": [
    "### Pré-processamento"
   ]
  },
  {
   "cell_type": "code",
   "execution_count": 19,
   "id": "6aa8e945",
   "metadata": {},
   "outputs": [],
   "source": [
    "# features categóricas\n",
    "cat_vars = list(df2[['continente', 'escolaridade', 'regiao', 'periodicidade',\n",
    "                     'tem_experiencia', 'requer_treinamento', 'tempo_integral']])\n",
    "\n",
    "# pipeline para pré-processamento das variáveis categóricas\n",
    "cat_transformer = Pipeline(steps=[\n",
    "    ('cat_encoder', CatBoostEncoder(handle_unknown='use_encoded_value'))\n",
    "])\n",
    "\n",
    "# Pipeline para aplicar as transformações\n",
    "preprocessor = ColumnTransformer(transformers=[\n",
    "    ('cat', cat_transformer, cat_vars)\n",
    "], remainder='passthrough')\n",
    "\n",
    "y_train = y_train.apply(lambda x: 1 if x == 'Aprovado' else 0)\n",
    "y_test = y_test.apply(lambda x: 1 if x == 'Aprovado' else 0)\n",
    "\n",
    "#Aplicando a pipeline de pré-processamento\n",
    "X_train = preprocessor.fit_transform(X_train, y_train)\n",
    "X_test = preprocessor.transform(X_test)\n",
    "\n"
   ]
  },
  {
   "cell_type": "code",
   "execution_count": 20,
   "id": "d571a22c",
   "metadata": {},
   "outputs": [],
   "source": [
    "y_train = np.array(y_train)\n",
    "y_test = np.array(y_test)"
   ]
  },
  {
   "cell_type": "markdown",
   "id": "80ee1634",
   "metadata": {},
   "source": [
    "### Tunando hiperparâmetro com Bayesian Search"
   ]
  },
  {
   "cell_type": "code",
   "execution_count": 22,
   "id": "97d1fe4c",
   "metadata": {},
   "outputs": [
    {
     "data": {
      "text/plain": [
       "'# Definir o espaço de busca para cada hiperparâmetro\\nparam_space = {\\n    \\'learning_rate\\': (0.01, 0.1, \\'log-uniform\\'),\\n    \\'n_estimators\\': (100, 200, 300, 400),\\n    \\'max_depth\\': (3, 5, \\'uniform\\'),\\n    \\'subsample\\': (0.5, 1.0, \\'uniform\\'),\\n    \\'colsample_bytree\\': (0.5, 1.0, \\'uniform\\'),\\n    \\'scale_pos_weight\\': (0.6, 0.75, \\'uniform\\'),\\n    \\'min_child_weight\\' : (1, 10, \\'uniform\\'),\\n    \\'reg_lambda\\' : (0.001, 0.01, \\'uniform\\'),\\n    \\'reg_alpha\\': (0.001, 0.01, \\'uniform\\')\\n}\\n\\n# Criar o classificador base\\nclassifier = XGBClassifier()\\n\\n# Realizar a busca bayesiana\\nbayes_search = BayesSearchCV(classifier, param_space, n_iter=30, cv=4, scoring=\\'roc_auc\\', n_jobs=-1)\\n\\n# Ajustar o modelo com a busca bayesiana\\nbayes_search.fit(X_train, y_train)\\n\\n# Imprimir os melhores hiperparâmetros encontrados\\nbest_params = bayes_search.best_params_\\nprint(\"Melhores hiperparâmetros:\")\\nfor param, value in best_params.items():\\n    print(f\"{param}: {value}\")'"
      ]
     },
     "execution_count": 22,
     "metadata": {},
     "output_type": "execute_result"
    }
   ],
   "source": [
    "# Definir o espaço de busca para cada hiperparâmetro\n",
    "param_space = {\n",
    "    'learning_rate': (0.01, 0.1, 'log-uniform'),\n",
    "    'n_estimators': (100, 200, 300, 400),\n",
    "    'max_depth': (3, 5, 'uniform'),\n",
    "    'subsample': (0.5, 1.0, 'uniform'),\n",
    "    'colsample_bytree': (0.5, 1.0, 'uniform'),\n",
    "    'scale_pos_weight': (0.6, 0.75, 'uniform'),\n",
    "    'min_child_weight' : (1, 10, 'uniform'),\n",
    "    'reg_lambda' : (0.001, 0.01, 'uniform'),\n",
    "    'reg_alpha': (0.001, 0.01, 'uniform')\n",
    "}\n",
    "\n",
    "# Criar o classificador base\n",
    "classifier = XGBClassifier()\n",
    "\n",
    "# Realizar a busca bayesiana\n",
    "bayes_search = BayesSearchCV(classifier, param_space, n_iter=30, cv=4, scoring='roc_auc', n_jobs=-1)\n",
    "\n",
    "# Ajustar o modelo com a busca bayesiana\n",
    "bayes_search.fit(X_train, y_train)\n",
    "\n",
    "# Imprimir os melhores hiperparâmetros encontrados\n",
    "best_params = bayes_search.best_params_\n",
    "print(\"Melhores hiperparâmetros:\")\n",
    "for param, value in best_params.items():\n",
    "    print(f\"{param}: {value}\")"
   ]
  },
  {
   "cell_type": "markdown",
   "id": "37d033ff",
   "metadata": {},
   "source": [
    "#### Melhores hiperparâmetros encontrados"
   ]
  },
  {
   "cell_type": "code",
   "execution_count": 23,
   "id": "0c496752",
   "metadata": {},
   "outputs": [
    {
     "data": {
      "text/plain": [
       "'xgb = XGBClassifier(learning_rate=0.01, n_estimators=300, max_depth=3,\\n                           subsample=0.5, colsample_bytree=0.67,\\n                    scale_pos_weight  = 0.6, min_child_weight= 10)\\n'"
      ]
     },
     "execution_count": 23,
     "metadata": {},
     "output_type": "execute_result"
    }
   ],
   "source": [
    "'''xgb = XGBClassifier(learning_rate=0.01, n_estimators=300, max_depth=3,\n",
    "                           subsample=0.5, colsample_bytree=0.6,\n",
    "                    scale_pos_weight  = 0.6, min_child_weight= 10)\n",
    "''''''"
   ]
  },
  {
   "cell_type": "markdown",
   "id": "f7e9ec2c",
   "metadata": {},
   "source": [
    "## XGBoost"
   ]
  },
  {
   "cell_type": "code",
   "execution_count": 24,
   "id": "443e65c5",
   "metadata": {},
   "outputs": [],
   "source": [
    "# Instanciando modelo\n",
    "xgb = XGBClassifier(learning_rate=0.01, n_estimators=300, max_depth=3,\n",
    "                           subsample=0.5, colsample_bytree=0.67,\n",
    "                    scale_pos_weight  = 0.6, min_child_weight= 10)\n",
    "# Treinando modelo\n",
    "xgb.fit(X_train, y_train)\n",
    "\n",
    "# Criando variável para guardar as previsões\n",
    "y_pred = xgb.predict(X_test)"
   ]
  },
  {
   "cell_type": "code",
   "execution_count": 25,
   "id": "245c8eee",
   "metadata": {},
   "outputs": [
    {
     "name": "stdout",
     "output_type": "stream",
     "text": [
      "F1-Score: 0.8\n",
      "Acurácia: 0.74\n",
      "Recall: 0.78\n",
      "Precision: 0.83\n",
      "Especificidade: 0.65\n",
      "AUC 0.72\n"
     ]
    }
   ],
   "source": [
    "# Métricas de avaliação do modelo\n",
    "acuracia = accuracy_score(y_test, y_pred)\n",
    "auc_area = roc_auc_score(y_test, y_pred)\n",
    "cm = confusion_matrix(y_test, y_pred)\n",
    "recall = recall_score(y_test, y_pred)\n",
    "precision = precision_score(y_test, y_pred)\n",
    "tn, fp, fn, tp = cm.ravel()\n",
    "specificity = tn / (tn + fp)\n",
    "f1 = f1_score(y_test, y_pred)\n",
    "\n",
    "print('F1-Score:', round(f1, 2))\n",
    "print('Acurácia:', round(acuracia, 2))\n",
    "print('Recall:', round(recall, 2))\n",
    "print('Precision:', round(precision, 2))\n",
    "print('Especificidade:', round(specificity, 2))\n",
    "print('AUC', round(auc_area, 2))"
   ]
  },
  {
   "cell_type": "code",
   "execution_count": 26,
   "id": "a68e5fdb",
   "metadata": {},
   "outputs": [
    {
     "name": "stdout",
     "output_type": "stream",
     "text": [
      "roc_score: 0.77 (+/- 0.01)\n",
      "roc_scores: [0.75298071 0.77039697 0.78112725 0.77219496]\n"
     ]
    }
   ],
   "source": [
    "# Embaralhar os índices dos dados de treinamento\n",
    "indices = np.arange(len(X_train))\n",
    "np.random.shuffle(indices)\n",
    "\n",
    "# Definir a validação cruzada embaralhada\n",
    "kf = KFold(n_splits=4, shuffle=True, random_state=72)\n",
    "\n",
    "# Aplicar a validação cruzada\n",
    "roc_scores = cross_val_score(xgb, X_train[indices], y_train[indices], scoring='roc_auc', cv=kf, n_jobs=-1)\n",
    "roc_mean = roc_scores.mean()\n",
    "roc_std = roc_scores.std()\n",
    "\n",
    "# Retornar o resultado formatado\n",
    "result = \"roc_score: {:.2f} (+/- {:.2f})\\nroc_scores: {}\".format(roc_mean, roc_std, roc_scores)\n",
    "print(result)\n",
    "\n"
   ]
  },
  {
   "cell_type": "markdown",
   "id": "323121e3",
   "metadata": {},
   "source": [
    "## Feature Importance com permutação"
   ]
  },
  {
   "cell_type": "code",
   "execution_count": 32,
   "id": "cafc304a",
   "metadata": {},
   "outputs": [
    {
     "name": "stdout",
     "output_type": "stream",
     "text": [
      "escolaridade 0.068 +/- 0.004\n",
      "num_empregados 0.043 +/- 0.003\n",
      "tem_experiencia 0.023 +/- 0.003\n",
      "requer_treinamento 0.013 +/- 0.002\n",
      "continente 0.011 +/- 0.002\n",
      "tempo_integral 0.007 +/- 0.001\n",
      "ano_fundacao 0.001 +/- 0.000\n",
      "regiao 0.001 +/- 0.000\n"
     ]
    }
   ],
   "source": [
    "r = permutation_importance( xgb, X_test, y_test, n_repeats = 30, random_state = 0, scoring = 'f1')\n",
    "\n",
    "for i in r.importances_mean.argsort()[::-1]:\n",
    "    if r.importances_mean[i] - 2*r.importances_std[i] > 0:\n",
    "        columns = df_test.drop(columns=['id']).columns\n",
    "        if i < len(columns):\n",
    "            column_name = columns[i]\n",
    "            column_width = 5  \n",
    "            print(f\"{column_name:<{column_width}} {r.importances_mean[i]:.3f} +/- {r.importances_std[i]:.3f}\")\n"
   ]
  },
  {
   "cell_type": "code",
   "execution_count": 33,
   "id": "de1c789d",
   "metadata": {},
   "outputs": [
    {
     "data": {
      "text/html": [
       "<div>\n",
       "<style scoped>\n",
       "    .dataframe tbody tr th:only-of-type {\n",
       "        vertical-align: middle;\n",
       "    }\n",
       "\n",
       "    .dataframe tbody tr th {\n",
       "        vertical-align: top;\n",
       "    }\n",
       "\n",
       "    .dataframe thead th {\n",
       "        text-align: right;\n",
       "    }\n",
       "</style>\n",
       "<table border=\"1\" class=\"dataframe\">\n",
       "  <thead>\n",
       "    <tr style=\"text-align: right;\">\n",
       "      <th></th>\n",
       "      <th>id_do_caso</th>\n",
       "      <th>status_do_caso</th>\n",
       "    </tr>\n",
       "  </thead>\n",
       "  <tbody>\n",
       "    <tr>\n",
       "      <th>0</th>\n",
       "      <td>EZYV22339</td>\n",
       "      <td>1</td>\n",
       "    </tr>\n",
       "    <tr>\n",
       "      <th>1</th>\n",
       "      <td>EZYV9333</td>\n",
       "      <td>0</td>\n",
       "    </tr>\n",
       "    <tr>\n",
       "      <th>2</th>\n",
       "      <td>EZYV9740</td>\n",
       "      <td>1</td>\n",
       "    </tr>\n",
       "    <tr>\n",
       "      <th>3</th>\n",
       "      <td>EZYV3328</td>\n",
       "      <td>1</td>\n",
       "    </tr>\n",
       "    <tr>\n",
       "      <th>4</th>\n",
       "      <td>EZYV12321</td>\n",
       "      <td>1</td>\n",
       "    </tr>\n",
       "  </tbody>\n",
       "</table>\n",
       "</div>"
      ],
      "text/plain": [
       "  id_do_caso  status_do_caso\n",
       "0  EZYV22339               1\n",
       "1   EZYV9333               0\n",
       "2   EZYV9740               1\n",
       "3   EZYV3328               1\n",
       "4  EZYV12321               1"
      ]
     },
     "execution_count": 33,
     "metadata": {},
     "output_type": "execute_result"
    }
   ],
   "source": [
    "# Aplicando pipelines de pré-processamento nos dados de teste\n",
    "df_test2 = preprocessor.transform(df_test.drop(columns=['id']))\n",
    "\n",
    "# testando o modelo\n",
    "df_test['status_do_caso'] = xgb.predict(df_test2)\n",
    "\n",
    "# Criando dataset com ID e previsão \n",
    "submission = df_test[['id', 'status_do_caso']].copy()\n",
    "submission.columns = ['id_do_caso', 'status_do_caso']\n",
    "submission.head()"
   ]
  },
  {
   "cell_type": "code",
   "execution_count": 34,
   "id": "3895b664",
   "metadata": {},
   "outputs": [],
   "source": [
    "# Criando arquivo para submissão no kaggle\n",
    "submission.to_csv('submission_final.csv', index=False)"
   ]
  },
  {
   "cell_type": "markdown",
   "id": "5ca0c274",
   "metadata": {},
   "source": [
    "#### Muitas outras coisas poderiam ser feitas, como: feature engine para modificar as variáveis preditoras, diferentes tipos de codificação para as variáveis categóricas ou binárias, uma análise exploratória mais detalhada para retirar mais insights dos dados, dentre outras técnicas são comumente utilizadas por cientistas de dados. Porém, na construção deste modelo a prioridade foi simplesmente melhorar o desempenho com foco na competição (Aumentar o valor das métricas F1-score e Roc-auc). "
   ]
  },
  {
   "cell_type": "code",
   "execution_count": null,
   "id": "4dd66863",
   "metadata": {},
   "outputs": [],
   "source": []
  }
 ],
 "metadata": {
  "kernelspec": {
   "display_name": "Python 3 (ipykernel)",
   "language": "python",
   "name": "python3"
  },
  "language_info": {
   "codemirror_mode": {
    "name": "ipython",
    "version": 3
   },
   "file_extension": ".py",
   "mimetype": "text/x-python",
   "name": "python",
   "nbconvert_exporter": "python",
   "pygments_lexer": "ipython3",
   "version": "3.9.12"
  }
 },
 "nbformat": 4,
 "nbformat_minor": 5
}
